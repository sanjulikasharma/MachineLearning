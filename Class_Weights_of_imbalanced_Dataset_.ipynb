{
  "nbformat": 4,
  "nbformat_minor": 0,
  "metadata": {
    "colab": {
      "provenance": [],
      "authorship_tag": "ABX9TyMjhwdW4k0KbE7kDUhwFfjB",
      "include_colab_link": true
    },
    "kernelspec": {
      "name": "python3",
      "display_name": "Python 3"
    },
    "language_info": {
      "name": "python"
    }
  },
  "cells": [
    {
      "cell_type": "markdown",
      "metadata": {
        "id": "view-in-github",
        "colab_type": "text"
      },
      "source": [
        "<a href=\"https://colab.research.google.com/github/sanjulikasharma/MachineLearning/blob/main/Class_Weights_of_imbalanced_Dataset_.ipynb\" target=\"_parent\"><img src=\"https://colab.research.google.com/assets/colab-badge.svg\" alt=\"Open In Colab\"/></a>"
      ]
    },
    {
      "cell_type": "code",
      "execution_count": 13,
      "metadata": {
        "id": "XP27xYz4sVMc"
      },
      "outputs": [],
      "source": [
        "# Load required libraries\n",
        "import numpy as np\n",
        "import pandas as pd\n",
        "import tensorflow as tf\n",
        "from sklearn.model_selection import train_test_split\n",
        "from sklearn.preprocessing import LabelEncoder\n",
        "from sklearn.utils import class_weight\n",
        "import matplotlib.pyplot as plt\n",
        "from sklearn.metrics import classification_report, confusion_matrix\n",
        "from sklearn.utils.class_weight import compute_class_weight\n",
        "\n",
        "# Load your dataset\n",
        "data = pd.read_csv(\"/content/Credit Score Classification Dataset.csv\")"
      ]
    },
    {
      "cell_type": "code",
      "source": [
        "data['Credit Score'].value_counts()"
      ],
      "metadata": {
        "colab": {
          "base_uri": "https://localhost:8080/"
        },
        "id": "_KMm9L8g1CYD",
        "outputId": "0af4ce20-f83e-47fa-f1c1-a1fa2dc8b5af"
      },
      "execution_count": 40,
      "outputs": [
        {
          "output_type": "execute_result",
          "data": {
            "text/plain": [
              "1    113\n",
              "0     36\n",
              "2     15\n",
              "Name: Credit Score, dtype: int64"
            ]
          },
          "metadata": {},
          "execution_count": 40
        }
      ]
    },
    {
      "cell_type": "code",
      "source": [
        "# Encode categorical columns to numerical\n",
        "label_encoders = {}\n",
        "for column in data.select_dtypes(include=[\"object\"]).columns:\n",
        "    le = LabelEncoder()\n",
        "    data[column] = le.fit_transform(data[column])\n",
        "    label_encoders[column] = le\n",
        "\n",
        "# Preprocess the data\n",
        "X = data.drop(\"Credit Score\", axis=1)\n",
        "y = data[\"Credit Score\"]\n",
        "\n",
        "# Split the data into training and testing sets\n",
        "X_train, X_test, y_train, y_test = train_test_split(X, y, test_size=0.2, random_state=42)\n",
        "\n",
        "# Calculate class weights for the imbalanced dataset\n",
        "class_weights = compute_class_weight(class_weight='balanced', classes=np.unique(y_train), y=y_train)\n",
        "class_weight_dict = dict(enumerate(class_weights))\n"
      ],
      "metadata": {
        "id": "Wif-S8ips5GA"
      },
      "execution_count": 14,
      "outputs": []
    },
    {
      "cell_type": "code",
      "source": [
        "class_weight_dict"
      ],
      "metadata": {
        "colab": {
          "base_uri": "https://localhost:8080/"
        },
        "id": "CeKDH2vvtp8f",
        "outputId": "d5aaed89-6205-4210-f3aa-5a0361527fe4"
      },
      "execution_count": 15,
      "outputs": [
        {
          "output_type": "execute_result",
          "data": {
            "text/plain": [
              "{0: 1.4086021505376345, 1: 0.48518518518518516, 2: 4.366666666666666}"
            ]
          },
          "metadata": {},
          "execution_count": 15
        }
      ]
    },
    {
      "cell_type": "code",
      "source": [
        "# Visualize class distribution before oversampling\n",
        "plt.figure(figsize=(8, 5))\n",
        "plt.bar(np.unique(y_train), np.bincount(y_train))\n",
        "plt.title('Class Distribution Before Oversampling')\n",
        "plt.xlabel('Class')\n",
        "plt.ylabel('Count')\n",
        "plt.xticks(np.unique(y_train))\n",
        "plt.show()"
      ],
      "metadata": {
        "colab": {
          "base_uri": "https://localhost:8080/",
          "height": 449
        },
        "id": "9VwlVJ1bs9j6",
        "outputId": "73c9dd7c-3f2e-4751-b2a1-fe0e33ed6e85"
      },
      "execution_count": 16,
      "outputs": [
        {
          "output_type": "display_data",
          "data": {
            "text/plain": [
              "<Figure size 800x500 with 1 Axes>"
            ],
            "image/png": "[encoded data removed]"
          },
          "metadata": {}
        }
      ]
    },
    {
      "cell_type": "code",
      "source": [
        "# Define the neural network model\n",
        "model = tf.keras.Sequential([\n",
        "    tf.keras.layers.Input(shape=(X_train.shape[1],)),\n",
        "    tf.keras.layers.Dense(64, activation=\"relu\"),\n",
        "    tf.keras.layers.Dense(32, activation=\"relu\"),\n",
        "    tf.keras.layers.Dense(1, activation=\"sigmoid\")\n",
        "])\n",
        "\n",
        "# Compile the model with class weights\n",
        "model.compile(optimizer=\"adam\", loss=\"binary_crossentropy\", metrics=[\"accuracy\"])\n",
        "\n",
        "# Train the model with oversampled data\n",
        "history = model.fit(X_train, y_train, epochs=10, batch_size=32, class_weight=class_weight_dict)"
      ],
      "metadata": {
        "colab": {
          "base_uri": "https://localhost:8080/"
        },
        "id": "87kmWpBDtFRX",
        "outputId": "b3931c0c-7ab7-4b99-9ff5-2c8e651817be"
      },
      "execution_count": 18,
      "outputs": [
        {
          "output_type": "stream",
          "name": "stdout",
          "text": [
            "Epoch 1/10\n",
            "5/5 [==============================] - 1s 5ms/step - loss: 5668.5518 - accuracy: 0.2366\n",
            "Epoch 2/10\n",
            "5/5 [==============================] - 0s 5ms/step - loss: 579.6683 - accuracy: 0.4122\n",
            "Epoch 3/10\n",
            "5/5 [==============================] - 0s 4ms/step - loss: 626.4594 - accuracy: 0.6870\n",
            "Epoch 4/10\n",
            "5/5 [==============================] - 0s 4ms/step - loss: 787.9131 - accuracy: 0.6870\n",
            "Epoch 5/10\n",
            "5/5 [==============================] - 0s 5ms/step - loss: 827.4133 - accuracy: 0.6870\n",
            "Epoch 6/10\n",
            "5/5 [==============================] - 0s 3ms/step - loss: 800.1688 - accuracy: 0.6870\n",
            "Epoch 7/10\n",
            "5/5 [==============================] - 0s 5ms/step - loss: 760.3868 - accuracy: 0.6870\n",
            "Epoch 8/10\n",
            "5/5 [==============================] - 0s 3ms/step - loss: 715.9006 - accuracy: 0.6870\n",
            "Epoch 9/10\n",
            "5/5 [==============================] - 0s 4ms/step - loss: 611.8096 - accuracy: 0.6870\n",
            "Epoch 10/10\n",
            "5/5 [==============================] - 0s 4ms/step - loss: 487.1948 - accuracy: 0.6870\n"
          ]
        }
      ]
    },
    {
      "cell_type": "code",
      "source": [
        "# Make predictions on the test set\n",
        "y_pred = model.predict(X_test)\n",
        "y_pred_binary = (y_pred > 0.5).astype(int)\n",
        "\n",
        "# Evaluate the model using classification report\n",
        "report = classification_report(y_test, y_pred_binary)\n",
        "print(report)"
      ],
      "metadata": {
        "colab": {
          "base_uri": "https://localhost:8080/"
        },
        "id": "7ROSPj3KtMqR",
        "outputId": "7f2351a4-34a5-4700-f8a8-3be92c732b44"
      },
      "execution_count": 19,
      "outputs": [
        {
          "output_type": "stream",
          "name": "stdout",
          "text": [
            "2/2 [==============================] - 0s 7ms/step\n",
            "              precision    recall  f1-score   support\n",
            "\n",
            "           0       0.00      0.00      0.00         5\n",
            "           1       0.70      1.00      0.82        23\n",
            "           2       0.00      0.00      0.00         5\n",
            "\n",
            "    accuracy                           0.70        33\n",
            "   macro avg       0.23      0.33      0.27        33\n",
            "weighted avg       0.49      0.70      0.57        33\n",
            "\n"
          ]
        },
        {
          "output_type": "stream",
          "name": "stderr",
          "text": [
            "/usr/local/lib/python3.10/dist-packages/sklearn/metrics/_classification.py:1344: UndefinedMetricWarning: Precision and F-score are ill-defined and being set to 0.0 in labels with no predicted samples. Use `zero_division` parameter to control this behavior.\n",
            "  _warn_prf(average, modifier, msg_start, len(result))\n",
            "/usr/local/lib/python3.10/dist-packages/sklearn/metrics/_classification.py:1344: UndefinedMetricWarning: Precision and F-score are ill-defined and being set to 0.0 in labels with no predicted samples. Use `zero_division` parameter to control this behavior.\n",
            "  _warn_prf(average, modifier, msg_start, len(result))\n",
            "/usr/local/lib/python3.10/dist-packages/sklearn/metrics/_classification.py:1344: UndefinedMetricWarning: Precision and F-score are ill-defined and being set to 0.0 in labels with no predicted samples. Use `zero_division` parameter to control this behavior.\n",
            "  _warn_prf(average, modifier, msg_start, len(result))\n"
          ]
        }
      ]
    }
  ]
}